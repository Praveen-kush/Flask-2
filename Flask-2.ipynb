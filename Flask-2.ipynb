{
 "cells": [
  {
   "cell_type": "markdown",
   "id": "bae69613",
   "metadata": {},
   "source": [
    "# Q1. Explain GET and POST methods."
   ]
  },
  {
   "cell_type": "markdown",
   "id": "22fd6015",
   "metadata": {},
   "source": [
    "# Ans:"
   ]
  },
  {
   "cell_type": "markdown",
   "id": "4d7100cf",
   "metadata": {},
   "source": [
    "GET Method:\n",
    "\n",
    "The GET method is used to request data from a specified resource.\n",
    "\n",
    "When a client sends a GET request to a server, it appends the data to the URL in the form of a query string. This data is visible to the user in the URL.\n",
    "\n",
    "It is primarily used for data retrieval where you're fetching data from the server without changing anything on the server.\n",
    "\n",
    "GET requests are limited in the amount of data that can be sent because URL length has a practical limitation.\n",
    "\n",
    "They should be used for idempotent operations (operations that have no additional effect if repeated) and should not have side effects on the server."
   ]
  },
  {
   "cell_type": "markdown",
   "id": "1968a67b",
   "metadata": {},
   "source": [
    "POST Method:\n",
    "\n",
    "The POST method is used to send data to a server to create or update a resource.\n",
    "\n",
    "When a client sends a POST request, the data is sent in the body of the HTTP request, not in the URL, which makes it more secure compared to the GET method.\n",
    "\n",
    "It is commonly used for submitting form data, uploading files, or sending larger amounts of data to the server.\n",
    "\n",
    "POST requests do not have limitations on the amount of data that can be sent.\n",
    "\n",
    "They can have side effects on the server such as updating data, creating new resources, etc."
   ]
  },
  {
   "cell_type": "markdown",
   "id": "efbc0d1c",
   "metadata": {},
   "source": [
    "# Q2. Why is request used in Flask?"
   ]
  },
  {
   "cell_type": "markdown",
   "id": "4ab2afcd",
   "metadata": {},
   "source": [
    "# Ans:"
   ]
  },
  {
   "cell_type": "markdown",
   "id": "3ce7333e",
   "metadata": {},
   "source": [
    "In Flask, the request object is used to access incoming request data that a client (like a web browser) sends to a Flask application. It allows developers to interact with the data sent in HTTP requests, such as form data, query parameters, JSON payloads, cookies, headers, and files uploaded through forms."
   ]
  },
  {
   "cell_type": "markdown",
   "id": "fbd6373a",
   "metadata": {},
   "source": [
    "Accessing Request Data: Flask's request object provides access to various parts of an incoming HTTP request, such as form data from POST requests, query parameters from GET requests, request headers, JSON data, etc.\n",
    "\n",
    "Handling Form Data: When a user submits a form on a webpage, the data is transmitted to the server. The request object allows Flask applications to access this form data easily, validate it, and perform necessary actions based on the received data.\n",
    "\n",
    "Processing Query Parameters: For requests made with query parameters (e.g., ?key1=value1&key2=value2 appended to a URL), Flask's request object enables the retrieval of these parameters for processing and handling by the application.\n",
    "\n",
    "Working with Cookies: It allows accessing and manipulating cookies associated with a request, enabling functionalities like user session management or storing small pieces of data on the client-side.\n",
    "\n",
    "Handling File Uploads: When users upload files through a form on a Flask-based web application, the request object provides access to these files, allowing developers to save, process, or validate them as needed.\n",
    "\n",
    "Content Negotiation: It helps in content negotiation by providing access to information about the client's accepted content types and languages, allowing the server to respond appropriately."
   ]
  },
  {
   "cell_type": "markdown",
   "id": "e1f76bde",
   "metadata": {},
   "source": [
    " The request object in Flask, developers can create dynamic web applications that respond to various types of incoming requests, process data, and interact with clients in a flexible and controlled manner."
   ]
  },
  {
   "cell_type": "markdown",
   "id": "75b62295",
   "metadata": {},
   "source": [
    "# Q3. Why is redirect() used in Flask?"
   ]
  },
  {
   "cell_type": "markdown",
   "id": "fbffcd5f",
   "metadata": {},
   "source": [
    "# Ans:"
   ]
  },
  {
   "cell_type": "markdown",
   "id": "f20e3cba",
   "metadata": {},
   "source": [
    "In Flask, the redirect() function is used to redirect the client's web browser to a different URL. It's a convenient way to send an HTTP redirect response to the browser, instructing it to load a different page or URL."
   ]
  },
  {
   "cell_type": "markdown",
   "id": "7514b8a6",
   "metadata": {},
   "source": [
    "URL Redirection: When a user accesses a specific route or URL in a Flask application, the redirect() function can be used to guide them to another URL, either within the same application or to an external page.\n",
    "\n",
    "Handling Form Submissions: After a form submission (for instance, after processing a login or submitting a form with POST data), redirect() can be employed to redirect the user to a different page, avoiding issues related to form resubmission when refreshing the page.\n",
    "\n",
    "Post-Redirect-Get (PRG) Pattern: It's often used to implement the PRG pattern, which helps prevent duplicate form submissions. After processing a form submission, instead of rendering a response directly, a redirect is issued using redirect() to a different URL. This prevents users from inadvertently resubmitting the form data by refreshing the page.\n",
    "\n",
    "Dynamic URL Handling: It allows dynamic redirection based on specific conditions or user actions within the application. For instance, after a successful registration, redirecting the user to a personalized welcome page."
   ]
  },
  {
   "cell_type": "markdown",
   "id": "51cc569f",
   "metadata": {},
   "source": [
    "# Q4. What are templates in Flask? Why is the render_template() function used?"
   ]
  },
  {
   "cell_type": "markdown",
   "id": "d51e3d86",
   "metadata": {},
   "source": [
    "# Ans:"
   ]
  },
  {
   "cell_type": "markdown",
   "id": "43465d1e",
   "metadata": {},
   "source": [
    "In Flask, templates refer to files containing static or dynamic content that the application can render to generate HTML pages dynamically. These templates are typically written in HTML, but they can include placeholders or template tags that Flask replaces with actual data when rendering the page. Templates help separate the presentation layer (HTML/CSS) from the application logic, promoting cleaner code and easier maintenance.\n",
    "\n",
    "The render_template() function in Flask is used to render these templates by processing them and substituting variables or data into the placeholders within the templates before sending the resulting HTML content as a response to the client's web browser."
   ]
  },
  {
   "cell_type": "markdown",
   "id": "9fc8484e",
   "metadata": {},
   "source": [
    " The render_template() function in Flask:"
   ]
  },
  {
   "cell_type": "markdown",
   "id": "ed87cd7d",
   "metadata": {},
   "source": [
    "Separation of Concerns: Templates enable the separation of the application's logic from its presentation. Python code (backend logic) can be written in Flask routes to fetch data, manipulate it, and then pass it to templates. The templates, written in HTML, focus on how the data is displayed.\n",
    "\n",
    "Dynamic Content: Templates allow dynamic content rendering. Flask can pass variables and data from Python code (such as route functions) to templates. These variables can be accessed and used within the HTML structure using template tags or placeholders.\n",
    "\n",
    "Code Reusability: Templates support code reusability. For instance, by creating a base template with a common layout and extending it in other templates, developers can maintain consistency across multiple pages."
   ]
  },
  {
   "cell_type": "markdown",
   "id": "02332571",
   "metadata": {},
   "source": [
    "# Q5. Create a simple API. Use Postman to test it. Attach the screenshot of the output in the Jupyter Notebook."
   ]
  },
  {
   "cell_type": "markdown",
   "id": "43f76ea8",
   "metadata": {},
   "source": [
    "# Ans:"
   ]
  },
  {
   "cell_type": "code",
   "execution_count": null,
   "id": "ecadaa60",
   "metadata": {},
   "outputs": [
    {
     "name": "stdout",
     "output_type": "stream",
     "text": [
      " * Serving Flask app \"__main__\" (lazy loading)\n",
      " * Environment: production\n",
      "\u001b[31m   WARNING: This is a development server. Do not use it in a production deployment.\u001b[0m\n",
      "\u001b[2m   Use a production WSGI server instead.\u001b[0m\n",
      " * Debug mode: off\n"
     ]
    },
    {
     "name": "stderr",
     "output_type": "stream",
     "text": [
      " * Running on http://127.0.0.1:8000/ (Press CTRL+C to quit)\n",
      "127.0.0.1 - - [16/Nov/2023 15:34:21] \"GET / HTTP/1.1\" 200 -\n",
      "[2023-11-16 15:34:45,269] ERROR in app: Exception on /store [POST]\n",
      "Traceback (most recent call last):\n",
      "  File \"C:\\ProgramData\\Anaconda3\\lib\\site-packages\\flask\\app.py\", line 2447, in wsgi_app\n",
      "    response = self.full_dispatch_request()\n",
      "  File \"C:\\ProgramData\\Anaconda3\\lib\\site-packages\\flask\\app.py\", line 1952, in full_dispatch_request\n",
      "    rv = self.handle_user_exception(e)\n",
      "  File \"C:\\ProgramData\\Anaconda3\\lib\\site-packages\\flask\\app.py\", line 1821, in handle_user_exception\n",
      "    reraise(exc_type, exc_value, tb)\n",
      "  File \"C:\\ProgramData\\Anaconda3\\lib\\site-packages\\flask\\_compat.py\", line 39, in reraise\n",
      "    raise value\n",
      "  File \"C:\\ProgramData\\Anaconda3\\lib\\site-packages\\flask\\app.py\", line 1950, in full_dispatch_request\n",
      "    rv = self.dispatch_request()\n",
      "  File \"C:\\ProgramData\\Anaconda3\\lib\\site-packages\\flask\\app.py\", line 1936, in dispatch_request\n",
      "    return self.view_functions[rule.endpoint](**req.view_args)\n",
      "  File \"C:\\Users\\Dell\\AppData\\Local\\Temp\\ipykernel_1296\\1022085070.py\", line 35, in create_store\n",
      "    'name': request_data['name'],\n",
      "TypeError: 'NoneType' object is not subscriptable\n",
      "127.0.0.1 - - [16/Nov/2023 15:34:45] \"POST /store HTTP/1.1\" 500 -\n",
      "127.0.0.1 - - [16/Nov/2023 15:35:06] \"GET /store/beautiful%20store HTTP/1.1\" 200 -\n",
      "[2023-11-16 15:35:15,998] ERROR in app: Exception on /store [POST]\n",
      "Traceback (most recent call last):\n",
      "  File \"C:\\ProgramData\\Anaconda3\\lib\\site-packages\\flask\\app.py\", line 2447, in wsgi_app\n",
      "    response = self.full_dispatch_request()\n",
      "  File \"C:\\ProgramData\\Anaconda3\\lib\\site-packages\\flask\\app.py\", line 1952, in full_dispatch_request\n",
      "    rv = self.handle_user_exception(e)\n",
      "  File \"C:\\ProgramData\\Anaconda3\\lib\\site-packages\\flask\\app.py\", line 1821, in handle_user_exception\n",
      "    reraise(exc_type, exc_value, tb)\n",
      "  File \"C:\\ProgramData\\Anaconda3\\lib\\site-packages\\flask\\_compat.py\", line 39, in reraise\n",
      "    raise value\n",
      "  File \"C:\\ProgramData\\Anaconda3\\lib\\site-packages\\flask\\app.py\", line 1950, in full_dispatch_request\n",
      "    rv = self.dispatch_request()\n",
      "  File \"C:\\ProgramData\\Anaconda3\\lib\\site-packages\\flask\\app.py\", line 1936, in dispatch_request\n",
      "    return self.view_functions[rule.endpoint](**req.view_args)\n",
      "  File \"C:\\Users\\Dell\\AppData\\Local\\Temp\\ipykernel_1296\\1022085070.py\", line 35, in create_store\n",
      "    'name': request_data['name'],\n",
      "TypeError: 'NoneType' object is not subscriptable\n",
      "127.0.0.1 - - [16/Nov/2023 15:35:16] \"POST /store HTTP/1.1\" 500 -\n",
      "[2023-11-16 15:35:21,125] ERROR in app: Exception on /store [POST]\n",
      "Traceback (most recent call last):\n",
      "  File \"C:\\ProgramData\\Anaconda3\\lib\\site-packages\\flask\\app.py\", line 2447, in wsgi_app\n",
      "    response = self.full_dispatch_request()\n",
      "  File \"C:\\ProgramData\\Anaconda3\\lib\\site-packages\\flask\\app.py\", line 1952, in full_dispatch_request\n",
      "    rv = self.handle_user_exception(e)\n",
      "  File \"C:\\ProgramData\\Anaconda3\\lib\\site-packages\\flask\\app.py\", line 1821, in handle_user_exception\n",
      "    reraise(exc_type, exc_value, tb)\n",
      "  File \"C:\\ProgramData\\Anaconda3\\lib\\site-packages\\flask\\_compat.py\", line 39, in reraise\n",
      "    raise value\n",
      "  File \"C:\\ProgramData\\Anaconda3\\lib\\site-packages\\flask\\app.py\", line 1950, in full_dispatch_request\n",
      "    rv = self.dispatch_request()\n",
      "  File \"C:\\ProgramData\\Anaconda3\\lib\\site-packages\\flask\\app.py\", line 1936, in dispatch_request\n",
      "    return self.view_functions[rule.endpoint](**req.view_args)\n",
      "  File \"C:\\Users\\Dell\\AppData\\Local\\Temp\\ipykernel_1296\\1022085070.py\", line 35, in create_store\n",
      "    'name': request_data['name'],\n",
      "TypeError: 'NoneType' object is not subscriptable\n",
      "127.0.0.1 - - [16/Nov/2023 15:35:21] \"POST /store HTTP/1.1\" 500 -\n",
      "[2023-11-16 15:35:33,063] ERROR in app: Exception on /store [POST]\n",
      "Traceback (most recent call last):\n",
      "  File \"C:\\ProgramData\\Anaconda3\\lib\\site-packages\\flask\\app.py\", line 2447, in wsgi_app\n",
      "    response = self.full_dispatch_request()\n",
      "  File \"C:\\ProgramData\\Anaconda3\\lib\\site-packages\\flask\\app.py\", line 1952, in full_dispatch_request\n",
      "    rv = self.handle_user_exception(e)\n",
      "  File \"C:\\ProgramData\\Anaconda3\\lib\\site-packages\\flask\\app.py\", line 1821, in handle_user_exception\n",
      "    reraise(exc_type, exc_value, tb)\n",
      "  File \"C:\\ProgramData\\Anaconda3\\lib\\site-packages\\flask\\_compat.py\", line 39, in reraise\n",
      "    raise value\n",
      "  File \"C:\\ProgramData\\Anaconda3\\lib\\site-packages\\flask\\app.py\", line 1950, in full_dispatch_request\n",
      "    rv = self.dispatch_request()\n",
      "  File \"C:\\ProgramData\\Anaconda3\\lib\\site-packages\\flask\\app.py\", line 1936, in dispatch_request\n",
      "    return self.view_functions[rule.endpoint](**req.view_args)\n",
      "  File \"C:\\Users\\Dell\\AppData\\Local\\Temp\\ipykernel_1296\\1022085070.py\", line 35, in create_store\n",
      "    'name': request_data['name'],\n",
      "TypeError: 'NoneType' object is not subscriptable\n",
      "127.0.0.1 - - [16/Nov/2023 15:35:33] \"POST /store HTTP/1.1\" 500 -\n"
     ]
    }
   ],
   "source": [
    "from flask import Flask, jsonify, request\n",
    "\n",
    "app = Flask(__name__)\n",
    "stores = [\n",
    "    {\n",
    "        'name': 'beautiful store',\n",
    "        'items': [\n",
    "            {\n",
    "                'name': 'flowers',\n",
    "                'price': 100\n",
    "            }\n",
    "        ]\n",
    "    },\n",
    "    {\n",
    "        'name': 'beautiful store 2',\n",
    "        'items': [\n",
    "            {\n",
    "                'name': 'books',\n",
    "                'price': 100\n",
    "            }\n",
    "        ]\n",
    "    }\n",
    "]\n",
    "\n",
    "\n",
    "@app.route('/')\n",
    "def home():\n",
    "    return \"Hello to Api\"\n",
    "\n",
    "\n",
    "@app.route('/store', methods=['POST'])\n",
    "def create_store():\n",
    "    request_data = request.get_json()\n",
    "    new_store = {\n",
    "        'name': request_data['name'],\n",
    "        'items': []\n",
    "    }\n",
    "    stores.append(new_store)\n",
    "    return jsonify(new_store)\n",
    "\n",
    "\n",
    "@app.route('/store/<string:name>')\n",
    "def get_store_name(name):\n",
    "    for store in stores:\n",
    "        if(store['name'] == name):\n",
    "            return jsonify(store)\n",
    "    return jsonify({'message': 'store not found'})\n",
    "\n",
    "\n",
    "@app.route('/store')\n",
    "def get_all_store_name():\n",
    "    return jsonify({'stores': stores})\n",
    "\n",
    "\n",
    "@app.route('/store/<string:name>/item', methods=['POST'])\n",
    "def create_store_item(name):\n",
    "    request_data = request.get_json()\n",
    "    for store in stores:\n",
    "        if(store['name'] == name):\n",
    "            new_item = {\n",
    "                'name': request_data['name'],\n",
    "                'price': request_data['price']\n",
    "            }\n",
    "            store['items'].append(new_item)\n",
    "            return jsonify(new_item)\n",
    "    return jsonify({'message':'store not found'})\n",
    "\n",
    "\n",
    "@app.route('/store/<string:name>/item')\n",
    "def get_store_item(name):\n",
    "    for store in stores:\n",
    "        if(store['name'] == name):\n",
    "            return jsonify(store['items'])\n",
    "    return jsonify({'message': 'store not found'})\n",
    "\n",
    "\n",
    "app.run(port=8000)"
   ]
  },
  {
   "cell_type": "markdown",
   "id": "8cd66bad",
   "metadata": {},
   "source": [
    "![postman Image](Downloads/postman.jpg)\n"
   ]
  },
  {
   "cell_type": "code",
   "execution_count": null,
   "id": "3e440dda",
   "metadata": {},
   "outputs": [],
   "source": []
  }
 ],
 "metadata": {
  "kernelspec": {
   "display_name": "Python 3 (ipykernel)",
   "language": "python",
   "name": "python3"
  },
  "language_info": {
   "codemirror_mode": {
    "name": "ipython",
    "version": 3
   },
   "file_extension": ".py",
   "mimetype": "text/x-python",
   "name": "python",
   "nbconvert_exporter": "python",
   "pygments_lexer": "ipython3",
   "version": "3.9.13"
  }
 },
 "nbformat": 4,
 "nbformat_minor": 5
}
